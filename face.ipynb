{
 "cells": [
  {
   "cell_type": "markdown",
   "metadata": {},
   "source": [
    "## 百度智能云人脸识别"
   ]
  },
  {
   "cell_type": "code",
   "execution_count": 43,
   "metadata": {},
   "outputs": [],
   "source": [
    "import urllib.request, urllib.parse\n",
    "import json\n",
    "from PIL import Image\n",
    "import numpy as np\n",
    "import base64\n",
    "import requests"
   ]
  },
  {
   "cell_type": "code",
   "execution_count": 3,
   "metadata": {},
   "outputs": [
    {
     "name": "stdout",
     "output_type": "stream",
     "text": [
      "{\"refresh_token\":\"25.d91b81d2537ab0c069c94aa117d173e1.315360000.1901195585.282335-19226264\",\"expires_in\":2592000,\"session_key\":\"9mzdCyjF9Vp9arZRpE63ExV2lF6yBHMa1G0pqsck9nPVYgtcDM3GnXJ2GD+JNgWBpMaudcbMWfRoO7XsTFQ2bZvJ+BSWuA==\",\"access_token\":\"24.00429885ce3c8e586be4d9a60d25829a.2592000.1588427585.282335-19226264\",\"scope\":\"public brain_all_scope vis-faceverify_faceverify_h5-face-liveness vis-faceverify_FACE_V3 vis-faceverify_idl_face_merge wise_adapt lebo_resource_base lightservice_public hetu_basic lightcms_map_poi kaidian_kaidian ApsMisTest_Test\\u6743\\u9650 vis-classify_flower lpq_\\u5f00\\u653e cop_helloScope ApsMis_fangdi_permission smartapp_snsapi_base iop_autocar oauth_tp_app smartapp_smart_game_openapi oauth_sessionkey smartapp_swanid_verify smartapp_opensource_openapi smartapp_opensource_recapi qatest_scope1 fake_face_detect_\\u5f00\\u653eScope vis-ocr_\\u865a\\u62df\\u4eba\\u7269\\u52a9\\u7406 idl-video_\\u865a\\u62df\\u4eba\\u7269\\u52a9\\u7406\",\"session_secret\":\"b3276004ab1c31ddb393f192e6333e29\"}\n",
      "\n"
     ]
    }
   ],
   "source": [
    "#获取access_token\n",
    "# client_id 为官网获取的AK， client_secret 为官网获取的SK\n",
    "host = 'https://aip.baidubce.com/oauth/2.0/token?grant_type=client_credentials&client_id=GGGzypMMaywtbrDYzg7mvBAU&client_secret=wAD3bivBGcv5gj4oqomTGoTKEfkEiuQh&'\n",
    "# 创建http请求\n",
    "request = urllib.request.Request(host)\n",
    "request.add_header('Content-Type','Application/json: charset=UTF-8')\n",
    "\n",
    "# 发送请求\n",
    "response = urllib.request.urlopen(request)\n",
    "content = response.read()\n",
    "if (content):\n",
    "    print(content.decode())\n"
   ]
  },
  {
   "cell_type": "code",
   "execution_count": 4,
   "metadata": {},
   "outputs": [
    {
     "name": "stdout",
     "output_type": "stream",
     "text": [
      "24.00429885ce3c8e586be4d9a60d25829a.2592000.1588427585.282335-19226264\n"
     ]
    }
   ],
   "source": [
    "access_token = json.loads(content)['access_token']\n",
    "print(access_token)"
   ]
  },
  {
   "cell_type": "code",
   "execution_count": 45,
   "metadata": {},
   "outputs": [],
   "source": [
    "img_url = 'https://www.faxingsj.com/uploads/2015-07/06-101338_587.jpg'\n",
    "request_url = \"https://aip.baidubce.com/rest/2.0/face/v3/detect\" + \"?access_token\" + access_token"
   ]
  },
  {
   "cell_type": "code",
   "execution_count": 68,
   "metadata": {},
   "outputs": [],
   "source": [
    "payload = {\n",
    "    \"image_url\": img_url,\n",
    "    'face_field': 'BASE64',\n",
    "    'api_secret': 'age,gender',\n",
    "    'max_face_num':10, \n",
    "    'face_type': 'LIVE'\n",
    "}\n",
    "# request.add_header('Content-Type','Application/json: charset=UTF-8')\n",
    "headers = {\n",
    "    'Content-Type': 'application/json: charset=UTF-8',\n",
    "}"
   ]
  },
  {
   "cell_type": "code",
   "execution_count": 69,
   "metadata": {},
   "outputs": [],
   "source": [
    "r = requests.post(request_url, params=payload, headers=headers)"
   ]
  },
  {
   "cell_type": "code",
   "execution_count": null,
   "metadata": {},
   "outputs": [],
   "source": [
    "r.status_code"
   ]
  },
  {
   "cell_type": "code",
   "execution_count": 71,
   "metadata": {},
   "outputs": [
    {
     "data": {
      "text/plain": [
       "b'{\"error_code\":100,\"error_msg\":\"Invalid parameter\"}'"
      ]
     },
     "execution_count": 71,
     "metadata": {},
     "output_type": "execute_result"
    }
   ],
   "source": [
    "r.content"
   ]
  },
  {
   "cell_type": "code",
   "execution_count": 72,
   "metadata": {},
   "outputs": [
    {
     "data": {
      "text/plain": [
       "{'error_code': 100, 'error_msg': 'Invalid parameter'}"
      ]
     },
     "execution_count": 72,
     "metadata": {},
     "output_type": "execute_result"
    }
   ],
   "source": [
    "results = r.json()\n",
    "results"
   ]
  },
  {
   "cell_type": "markdown",
   "metadata": {},
   "source": [
    "## face ++ 人脸识别"
   ]
  },
  {
   "cell_type": "code",
   "execution_count": 86,
   "metadata": {},
   "outputs": [],
   "source": [
    "# 1、先导入为们需要的模块\n",
    "import requests\n",
    "\n",
    "\n",
    "api_secret = \"14xDDszipYQCq5yFtzyDlqW8bmaJ6IAA\"\n",
    "# 2、输入我们API_Key\n",
    "api_key = 'dsY6jjdyxfomA9NNiolLpx-sWbm9gcQ3'  # Replace with a valid Subscription Key here.\n",
    "\n",
    "\n",
    "# 3、目标url\n",
    "# 这里也可以使用本地图片 例如：filepath =\"image/tupian.jpg\"\n",
    "BASE_URL = 'https://api-cn.faceplusplus.com/facepp/v3/detect' \n",
    "img_url = 'https://www.faxingsj.com/uploads/2015-07/06-101338_587.jpg'\n",
    "\n",
    "# 4、沿用API文档的示范代码,准备我们的headers和图片(数据)\n",
    "\n",
    "headers = {\n",
    "    'Content-Type': 'application/json',\n",
    "}\n",
    "\n",
    "# 5、准备symbol ? 后面的数据\n",
    "\n",
    "payload = {\n",
    "    \"image_url\":img_url,\n",
    "    'api_key': api_key,\n",
    "    'api_secret': api_secret,\n",
    "    'return_attributes':'gender,age,smiling,emotion', \n",
    "}\n",
    "\n"
   ]
  },
  {
   "cell_type": "code",
   "execution_count": 87,
   "metadata": {},
   "outputs": [],
   "source": [
    "#  6、requests发送我们请求\n",
    "r = requests.post(BASE_URL, params=payload, headers=headers)"
   ]
  },
  {
   "cell_type": "code",
   "execution_count": 88,
   "metadata": {},
   "outputs": [
    {
     "data": {
      "text/plain": [
       "200"
      ]
     },
     "execution_count": 88,
     "metadata": {},
     "output_type": "execute_result"
    }
   ],
   "source": [
    "r.status_code"
   ]
  },
  {
   "cell_type": "code",
   "execution_count": 89,
   "metadata": {},
   "outputs": [
    {
     "data": {
      "text/plain": [
       "b'{\"request_id\":\"1585840633,79f88b50-0f3a-495c-b8c1-c677a3d80040\",\"time_used\":419,\"faces\":[{\"face_token\":\"27807d27d42289794c6b9092a6a0d59a\",\"face_rectangle\":{\"top\":136,\"left\":99,\"width\":139,\"height\":139},\"attributes\":{\"gender\":{\"value\":\"Female\"},\"age\":{\"value\":26},\"smile\":{\"value\":22.134,\"threshold\":50.000},\"emotion\":{\"anger\":0.093,\"disgust\":0.004,\"fear\":0.004,\"happiness\":0.089,\"neutral\":98.840,\"sadness\":0.004,\"surprise\":0.967}}}],\"image_id\":\"4rzRO22qiFht7DV3AP0zwQ==\",\"face_num\":1}\\n'"
      ]
     },
     "execution_count": 89,
     "metadata": {},
     "output_type": "execute_result"
    }
   ],
   "source": [
    "r.content"
   ]
  },
  {
   "cell_type": "code",
   "execution_count": 90,
   "metadata": {},
   "outputs": [
    {
     "data": {
      "text/plain": [
       "{'request_id': '1585840633,79f88b50-0f3a-495c-b8c1-c677a3d80040',\n",
       " 'time_used': 419,\n",
       " 'faces': [{'face_token': '27807d27d42289794c6b9092a6a0d59a',\n",
       "   'face_rectangle': {'top': 136, 'left': 99, 'width': 139, 'height': 139},\n",
       "   'attributes': {'gender': {'value': 'Female'},\n",
       "    'age': {'value': 26},\n",
       "    'smile': {'value': 22.134, 'threshold': 50.0},\n",
       "    'emotion': {'anger': 0.093,\n",
       "     'disgust': 0.004,\n",
       "     'fear': 0.004,\n",
       "     'happiness': 0.089,\n",
       "     'neutral': 98.84,\n",
       "     'sadness': 0.004,\n",
       "     'surprise': 0.967}}}],\n",
       " 'image_id': '4rzRO22qiFht7DV3AP0zwQ==',\n",
       " 'face_num': 1}"
      ]
     },
     "execution_count": 90,
     "metadata": {},
     "output_type": "execute_result"
    }
   ],
   "source": [
    "# requests 巧妙的方法   r = response\n",
    "results = r.json() # \n",
    "results"
   ]
  },
  {
   "cell_type": "code",
   "execution_count": 92,
   "metadata": {},
   "outputs": [],
   "source": [
    "import pandas as pd"
   ]
  },
  {
   "cell_type": "code",
   "execution_count": 93,
   "metadata": {},
   "outputs": [],
   "source": [
    "df = pd.json_normalize(results,record_path='faces')"
   ]
  },
  {
   "cell_type": "code",
   "execution_count": 94,
   "metadata": {},
   "outputs": [
    {
     "data": {
      "text/html": [
       "<div>\n",
       "<style scoped>\n",
       "    .dataframe tbody tr th:only-of-type {\n",
       "        vertical-align: middle;\n",
       "    }\n",
       "\n",
       "    .dataframe tbody tr th {\n",
       "        vertical-align: top;\n",
       "    }\n",
       "\n",
       "    .dataframe thead th {\n",
       "        text-align: right;\n",
       "    }\n",
       "</style>\n",
       "<table border=\"1\" class=\"dataframe\">\n",
       "  <thead>\n",
       "    <tr style=\"text-align: right;\">\n",
       "      <th></th>\n",
       "      <th>face_token</th>\n",
       "      <th>face_rectangle.top</th>\n",
       "      <th>face_rectangle.left</th>\n",
       "      <th>face_rectangle.width</th>\n",
       "      <th>face_rectangle.height</th>\n",
       "      <th>attributes.gender.value</th>\n",
       "      <th>attributes.age.value</th>\n",
       "      <th>attributes.smile.value</th>\n",
       "      <th>attributes.smile.threshold</th>\n",
       "      <th>attributes.emotion.anger</th>\n",
       "      <th>attributes.emotion.disgust</th>\n",
       "      <th>attributes.emotion.fear</th>\n",
       "      <th>attributes.emotion.happiness</th>\n",
       "      <th>attributes.emotion.neutral</th>\n",
       "      <th>attributes.emotion.sadness</th>\n",
       "      <th>attributes.emotion.surprise</th>\n",
       "    </tr>\n",
       "  </thead>\n",
       "  <tbody>\n",
       "    <tr>\n",
       "      <th>0</th>\n",
       "      <td>27807d27d42289794c6b9092a6a0d59a</td>\n",
       "      <td>136</td>\n",
       "      <td>99</td>\n",
       "      <td>139</td>\n",
       "      <td>139</td>\n",
       "      <td>Female</td>\n",
       "      <td>26</td>\n",
       "      <td>22.134</td>\n",
       "      <td>50.0</td>\n",
       "      <td>0.093</td>\n",
       "      <td>0.004</td>\n",
       "      <td>0.004</td>\n",
       "      <td>0.089</td>\n",
       "      <td>98.84</td>\n",
       "      <td>0.004</td>\n",
       "      <td>0.967</td>\n",
       "    </tr>\n",
       "  </tbody>\n",
       "</table>\n",
       "</div>"
      ],
      "text/plain": [
       "                         face_token  face_rectangle.top  face_rectangle.left  \\\n",
       "0  27807d27d42289794c6b9092a6a0d59a                 136                   99   \n",
       "\n",
       "   face_rectangle.width  face_rectangle.height attributes.gender.value  \\\n",
       "0                   139                    139                  Female   \n",
       "\n",
       "   attributes.age.value  attributes.smile.value  attributes.smile.threshold  \\\n",
       "0                    26                  22.134                        50.0   \n",
       "\n",
       "   attributes.emotion.anger  attributes.emotion.disgust  \\\n",
       "0                     0.093                       0.004   \n",
       "\n",
       "   attributes.emotion.fear  attributes.emotion.happiness  \\\n",
       "0                    0.004                         0.089   \n",
       "\n",
       "   attributes.emotion.neutral  attributes.emotion.sadness  \\\n",
       "0                       98.84                       0.004   \n",
       "\n",
       "   attributes.emotion.surprise  \n",
       "0                        0.967  "
      ]
     },
     "execution_count": 94,
     "metadata": {},
     "output_type": "execute_result"
    }
   ],
   "source": [
    "df"
   ]
  },
  {
   "cell_type": "code",
   "execution_count": 96,
   "metadata": {},
   "outputs": [],
   "source": [
    "df_face_rectangle = df[['face_token','face_rectangle.top','face_rectangle.left','face_rectangle.width','face_rectangle.height']]"
   ]
  }
 ],
 "metadata": {
  "kernelspec": {
   "display_name": "Python 3",
   "language": "python",
   "name": "python3"
  },
  "language_info": {
   "codemirror_mode": {
    "name": "ipython",
    "version": 3
   },
   "file_extension": ".py",
   "mimetype": "text/x-python",
   "name": "python",
   "nbconvert_exporter": "python",
   "pygments_lexer": "ipython3",
   "version": "3.7.0"
  },
  "pycharm": {
   "stem_cell": {
    "cell_type": "raw",
    "metadata": {
     "collapsed": false
    },
    "source": []
   }
  }
 },
 "nbformat": 4,
 "nbformat_minor": 2
}
